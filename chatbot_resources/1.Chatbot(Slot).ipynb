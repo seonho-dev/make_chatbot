{
 "cells": [
  {
   "cell_type": "markdown",
   "metadata": {},
   "source": [
    "# 챗봇 만들기(Slot 구성 및 출력)"
   ]
  },
  {
   "cell_type": "code",
   "execution_count": null,
   "metadata": {},
   "outputs": [],
   "source": [
    "#input_data = \"판교에 지금 피자 주문해줘\" #채팅에서 입력\n",
    "input_data = \"판교에 지금 주문해줘\" #채팅에서 입력\n",
    "\n",
    "#출력값\n",
    "output_data = \"\"\n",
    "\n",
    "#챗봇에서 서버와 주고받을 API format \n",
    "request = {\n",
    "            \"intent_id\" : \"\",\n",
    "            \"input_data\":input_data, \n",
    "            \"request_type\" : \"text\",\n",
    "            \"story_slot_entity\" : {},\n",
    "            \"output_data\" : output_data\n",
    "          }\n"
   ]
  },
  {
   "cell_type": "markdown",
   "metadata": {},
   "source": [
    "# 기본 Data Set (DB)"
   ]
  },
  {
   "cell_type": "code",
   "execution_count": 3,
   "metadata": {
    "collapsed": true
   },
   "outputs": [],
   "source": [
    "#향후 의도 구분을 위한 학습Data로 사용\n",
    "intent_list = {\n",
    "                \"주문\" : [\"주문\",\"배달\"],\n",
    "                \"예약\" : [\"예약\",\"잡아줘\"],\n",
    "                \"정보\" : [\"정보\", \"알려\"]\n",
    "                } \n",
    "\n",
    "#각 의도별 Slot 구성\n",
    "story_slot_entity = {\"주문\": {\"메뉴\" : None, \"장소\" : None, \"날짜\" : None},\n",
    "                     \"예약\": {\"장소\" : None, \"날짜\" : None},\n",
    "                     \"정보\": {\"대상\" : None}                    \n",
    "                    }\n"
   ]
  },
  {
   "cell_type": "markdown",
   "metadata": {},
   "source": [
    "# 형태소 분석"
   ]
  },
  {
   "cell_type": "code",
   "execution_count": null,
   "metadata": {},
   "outputs": [],
   "source": [
    "#형태소 분석 mecab사용\n",
    "from konlpy.tag import Mecab\n",
    "mecab = Mecab('/usr/local/lib/mecab/dic/mecab-ko-dic') #고유명사는 별도 NNP 등록\n",
    "preprocessed = mecab.pos(request.get('input_data'))"
   ]
  },
  {
   "cell_type": "code",
   "execution_count": 5,
   "metadata": {},
   "outputs": [
    {
     "name": "stdout",
     "output_type": "stream",
     "text": [
      "[('판교', 'NNG'), ('에', 'JKB'), ('지금', 'MAG'), ('주문', 'NNG'), ('해', 'XSV+EC'), ('줘', 'VX+EC')]\n"
     ]
    }
   ],
   "source": [
    "print (preprocessed)"
   ]
  },
  {
   "cell_type": "markdown",
   "metadata": {},
   "source": [
    "# Intent 도출(Rule Based)"
   ]
  },
  {
   "cell_type": "code",
   "execution_count": 6,
   "metadata": {
    "collapsed": true
   },
   "outputs": [],
   "source": [
    "intent_id =\"주문\"\n",
    "slot_value = story_slot_entity.get(\"주문\")"
   ]
  },
  {
   "cell_type": "markdown",
   "metadata": {},
   "source": [
    "# NER 도출(Rule Based)"
   ]
  },
  {
   "cell_type": "code",
   "execution_count": 7,
   "metadata": {
    "collapsed": true
   },
   "outputs": [],
   "source": [
    "menu_list = ['피자','햄버거','치킨']\n",
    "loc_list = ['판교','야탑','서현']\n",
    "date_list = ['지금','내일','모래']"
   ]
  },
  {
   "cell_type": "markdown",
   "metadata": {},
   "source": [
    "# Dictionary 기반 Slot 구성"
   ]
  },
  {
   "cell_type": "code",
   "execution_count": 8,
   "metadata": {},
   "outputs": [],
   "source": [
    "#전처리 로직으로 문장내 연관 단어만 도출(조사, 마침표제거등)\n",
    "for pos_tag in preprocessed:\n",
    "    if (pos_tag[1] in ['NNG', 'NNP','SL','MAG']): #명사, 영어만 사용\n",
    "        if pos_tag[0] in menu_list: #메뉴 List 에서 검색\n",
    "            slot_value[\"메뉴\"] = pos_tag[0] \n",
    "        elif pos_tag[0] in loc_list: #메뉴 List 에서 검색\n",
    "            slot_value[\"장소\"] = pos_tag[0] \n",
    "        elif pos_tag[0] in date_list: #메뉴 List 에서 검색\n",
    "            slot_value[\"날짜\"] = pos_tag[0] "
   ]
  },
  {
   "cell_type": "code",
   "execution_count": 9,
   "metadata": {},
   "outputs": [
    {
     "name": "stdout",
     "output_type": "stream",
     "text": [
      "{'메뉴': None, '장소': '판교', '날짜': '지금'}\n"
     ]
    }
   ],
   "source": [
    "print (story_slot_entity.get('주문'))"
   ]
  },
  {
   "cell_type": "markdown",
   "metadata": {},
   "source": [
    "# 빈 Slot 검색"
   ]
  },
  {
   "cell_type": "code",
   "execution_count": 10,
   "metadata": {},
   "outputs": [
    {
     "name": "stdout",
     "output_type": "stream",
     "text": [
      "메뉴,선택해주세요\n"
     ]
    }
   ],
   "source": [
    "\n",
    "if(None in slot_value.values()): #빈 Slot 출력\n",
    "    key_values = \"\"\n",
    "    for key in slot_value.keys():\n",
    "        if(slot_value[key] is None):\n",
    "            key_values = key_values + key + \",\"\n",
    "    output_data = key_values + '선택해주세요'\n",
    "else:\n",
    "    output_data = \"주문이 완료 되었습니다.\"\n",
    "            \n",
    "print (output_data)"
   ]
  },
  {
   "cell_type": "code",
   "execution_count": 11,
   "metadata": {
    "collapsed": true
   },
   "outputs": [],
   "source": [
    "response = {\n",
    "            \"intent_id\" : \"\",\n",
    "            \"input_data\":input_data, \n",
    "            \"request_type\" : \"text\",\n",
    "            \"story_slot_entity\" : {},\n",
    "            \"output_data\" : \"\"\n",
    "          }\n",
    "response[\"output_data\"]= output_data"
   ]
  },
  {
   "cell_type": "code",
   "execution_count": 12,
   "metadata": {},
   "outputs": [
    {
     "name": "stdout",
     "output_type": "stream",
     "text": [
      "메뉴,선택해주세요\n"
     ]
    }
   ],
   "source": [
    "print (response['output_data'])"
   ]
  },
  {
   "cell_type": "code",
   "execution_count": null,
   "metadata": {},
   "outputs": [],
   "source": []
  }
 ],
 "metadata": {
  "anaconda-cloud": {},
  "kernelspec": {
   "display_name": "Python 3",
   "language": "python",
   "name": "python3"
  },
  "language_info": {
   "codemirror_mode": {
    "name": "ipython",
    "version": 3
   },
   "file_extension": ".py",
   "mimetype": "text/x-python",
   "name": "python",
   "nbconvert_exporter": "python",
   "pygments_lexer": "ipython3",
   "version": "3.6.2"
  }
 },
 "nbformat": 4,
 "nbformat_minor": 1
}
