{
 "cells": [
  {
   "cell_type": "markdown",
   "metadata": {},
   "source": [
    "# Word Representation"
   ]
  },
  {
   "cell_type": "markdown",
   "metadata": {},
   "source": [
    "### One Hot Vector를 통한 출력"
   ]
  },
  {
   "cell_type": "code",
   "execution_count": 81,
   "metadata": {},
   "outputs": [
    {
     "name": "stdout",
     "output_type": "stream",
     "text": [
      "['안녕', '만나', '서', '반가워', '넌', '누구', '니', '나', '는', 'AI', '봇', '이', '란다', '.', '피자', '주문', '할께', '음료', '도', '주문', '해', '줘', '음료', '는', '멀', '로', '콜라', '로', '해', '줘']\n"
     ]
    }
   ],
   "source": [
    "from konlpy.tag import Mecab\n",
    "\n",
    "qna_data = [\n",
    "                ['안녕', '만나서 반가워']\n",
    "                ,['넌누구니', '나는 AI 봇이란다.']\n",
    "                 ,['피자 주문 할께', '음료도 주문해줘']\n",
    "                ,['음료는 멀로', '콜라로 해줘']\n",
    "            ]\n",
    "mecab = Mecab('/usr/local/lib/mecab/dic/mecab-ko-dic')\n",
    "\n",
    "train_data = list(map(lambda x : mecab.morphs(' '.join(x)) , qna_data))\n",
    "\n",
    "import itertools\n",
    "train_data = list(itertools.chain.from_iterable(train_data))\n",
    "\n",
    "print(list(train_data))"
   ]
  },
  {
   "cell_type": "code",
   "execution_count": 82,
   "metadata": {},
   "outputs": [
    {
     "name": "stdout",
     "output_type": "stream",
     "text": [
      "[ 1.  0.  0.  0.  0.  0.  0.  0.  0.  0.  0.  0.  0.  0.  0.  0.  0.  0.\n",
      "  0.  0.  0.  0.  0.  0.  0.  0.  0.  0.  0.  0.]\n",
      "[ 0.  1.  0.  0.  0.  0.  0.  0.  0.  0.  0.  0.  0.  0.  0.  0.  0.  0.\n",
      "  0.  0.  0.  0.  0.  0.  0.  0.  0.  0.  0.  0.]\n",
      "[ 0.  0.  1.  0.  0.  0.  0.  0.  0.  0.  0.  0.  0.  0.  0.  0.  0.  0.\n",
      "  0.  0.  0.  0.  0.  0.  0.  0.  0.  0.  0.  0.]\n",
      "[ 0.  0.  0.  1.  0.  0.  0.  0.  0.  0.  0.  0.  0.  0.  0.  0.  0.  0.\n",
      "  0.  0.  0.  0.  0.  0.  0.  0.  0.  0.  0.  0.]\n",
      "[ 0.  0.  0.  0.  1.  0.  0.  0.  0.  0.  0.  0.  0.  0.  0.  0.  0.  0.\n",
      "  0.  0.  0.  0.  0.  0.  0.  0.  0.  0.  0.  0.]\n",
      "[ 0.  0.  0.  0.  0.  1.  0.  0.  0.  0.  0.  0.  0.  0.  0.  0.  0.  0.\n",
      "  0.  0.  0.  0.  0.  0.  0.  0.  0.  0.  0.  0.]\n",
      "[ 0.  0.  0.  0.  0.  0.  1.  0.  0.  0.  0.  0.  0.  0.  0.  0.  0.  0.\n",
      "  0.  0.  0.  0.  0.  0.  0.  0.  0.  0.  0.  0.]\n",
      "[ 0.  0.  0.  0.  0.  0.  0.  1.  0.  0.  0.  0.  0.  0.  0.  0.  0.  0.\n",
      "  0.  0.  0.  0.  0.  0.  0.  0.  0.  0.  0.  0.]\n",
      "[ 0.  0.  0.  0.  0.  0.  0.  0.  1.  0.  0.  0.  0.  0.  0.  0.  0.  0.\n",
      "  0.  0.  0.  0.  0.  0.  0.  0.  0.  0.  0.  0.]\n",
      "[ 0.  0.  0.  0.  0.  0.  0.  0.  0.  1.  0.  0.  0.  0.  0.  0.  0.  0.\n",
      "  0.  0.  0.  0.  0.  0.  0.  0.  0.  0.  0.  0.]\n",
      "[ 0.  0.  0.  0.  0.  0.  0.  0.  0.  0.  1.  0.  0.  0.  0.  0.  0.  0.\n",
      "  0.  0.  0.  0.  0.  0.  0.  0.  0.  0.  0.  0.]\n",
      "[ 0.  0.  0.  0.  0.  0.  0.  0.  0.  0.  0.  1.  0.  0.  0.  0.  0.  0.\n",
      "  0.  0.  0.  0.  0.  0.  0.  0.  0.  0.  0.  0.]\n",
      "[ 0.  0.  0.  0.  0.  0.  0.  0.  0.  0.  0.  0.  1.  0.  0.  0.  0.  0.\n",
      "  0.  0.  0.  0.  0.  0.  0.  0.  0.  0.  0.  0.]\n",
      "[ 0.  0.  0.  0.  0.  0.  0.  0.  0.  0.  0.  0.  0.  1.  0.  0.  0.  0.\n",
      "  0.  0.  0.  0.  0.  0.  0.  0.  0.  0.  0.  0.]\n",
      "[ 0.  0.  0.  0.  0.  0.  0.  0.  0.  0.  0.  0.  0.  0.  1.  0.  0.  0.\n",
      "  0.  0.  0.  0.  0.  0.  0.  0.  0.  0.  0.  0.]\n",
      "[ 0.  0.  0.  0.  0.  0.  0.  0.  0.  0.  0.  0.  0.  0.  0.  1.  0.  0.\n",
      "  0.  0.  0.  0.  0.  0.  0.  0.  0.  0.  0.  0.]\n",
      "[ 0.  0.  0.  0.  0.  0.  0.  0.  0.  0.  0.  0.  0.  0.  0.  0.  1.  0.\n",
      "  0.  0.  0.  0.  0.  0.  0.  0.  0.  0.  0.  0.]\n",
      "[ 0.  0.  0.  0.  0.  0.  0.  0.  0.  0.  0.  0.  0.  0.  0.  0.  0.  1.\n",
      "  0.  0.  0.  0.  0.  0.  0.  0.  0.  0.  0.  0.]\n",
      "[ 0.  0.  0.  0.  0.  0.  0.  0.  0.  0.  0.  0.  0.  0.  0.  0.  0.  0.\n",
      "  1.  0.  0.  0.  0.  0.  0.  0.  0.  0.  0.  0.]\n",
      "[ 0.  0.  0.  0.  0.  0.  0.  0.  0.  0.  0.  0.  0.  0.  0.  1.  0.  0.\n",
      "  0.  0.  0.  0.  0.  0.  0.  0.  0.  0.  0.  0.]\n",
      "[ 0.  0.  0.  0.  0.  0.  0.  0.  0.  0.  0.  0.  0.  0.  0.  0.  0.  0.\n",
      "  0.  0.  1.  0.  0.  0.  0.  0.  0.  0.  0.  0.]\n",
      "[ 0.  0.  0.  0.  0.  0.  0.  0.  0.  0.  0.  0.  0.  0.  0.  0.  0.  0.\n",
      "  0.  0.  0.  1.  0.  0.  0.  0.  0.  0.  0.  0.]\n",
      "[ 0.  0.  0.  0.  0.  0.  0.  0.  0.  0.  0.  0.  0.  0.  0.  0.  0.  1.\n",
      "  0.  0.  0.  0.  0.  0.  0.  0.  0.  0.  0.  0.]\n",
      "[ 0.  0.  0.  0.  0.  0.  0.  0.  1.  0.  0.  0.  0.  0.  0.  0.  0.  0.\n",
      "  0.  0.  0.  0.  0.  0.  0.  0.  0.  0.  0.  0.]\n",
      "[ 0.  0.  0.  0.  0.  0.  0.  0.  0.  0.  0.  0.  0.  0.  0.  0.  0.  0.\n",
      "  0.  0.  0.  0.  0.  0.  1.  0.  0.  0.  0.  0.]\n",
      "[ 0.  0.  0.  0.  0.  0.  0.  0.  0.  0.  0.  0.  0.  0.  0.  0.  0.  0.\n",
      "  0.  0.  0.  0.  0.  0.  0.  1.  0.  0.  0.  0.]\n",
      "[ 0.  0.  0.  0.  0.  0.  0.  0.  0.  0.  0.  0.  0.  0.  0.  0.  0.  0.\n",
      "  0.  0.  0.  0.  0.  0.  0.  0.  1.  0.  0.  0.]\n",
      "[ 0.  0.  0.  0.  0.  0.  0.  0.  0.  0.  0.  0.  0.  0.  0.  0.  0.  0.\n",
      "  0.  0.  0.  0.  0.  0.  0.  1.  0.  0.  0.  0.]\n",
      "[ 0.  0.  0.  0.  0.  0.  0.  0.  0.  0.  0.  0.  0.  0.  0.  0.  0.  0.\n",
      "  0.  0.  1.  0.  0.  0.  0.  0.  0.  0.  0.  0.]\n",
      "[ 0.  0.  0.  0.  0.  0.  0.  0.  0.  0.  0.  0.  0.  0.  0.  0.  0.  0.\n",
      "  0.  0.  0.  1.  0.  0.  0.  0.  0.  0.  0.  0.]\n"
     ]
    }
   ],
   "source": [
    "import numpy as np\n",
    "bucket = np.zeros(len(train_data), dtype=np.float)\n",
    "\n",
    "for word in train_data :\n",
    "    bucket_temp = bucket.copy()\n",
    "    np.put(bucket_temp, train_data.index(word), 1)\n",
    "    print(bucket_temp)"
   ]
  },
  {
   "cell_type": "markdown",
   "metadata": {},
   "source": [
    "## Word to Vector (By Gensim)\n",
    "### W2V를 통해 출력해보자"
   ]
  },
  {
   "cell_type": "code",
   "execution_count": 83,
   "metadata": {
    "collapsed": true
   },
   "outputs": [],
   "source": [
    "from gensim.models import word2vec"
   ]
  },
  {
   "cell_type": "code",
   "execution_count": 84,
   "metadata": {},
   "outputs": [
    {
     "name": "stdout",
     "output_type": "stream",
     "text": [
      "[['안녕', '만나', '서', '반가워', '넌', '누구', '니', '나', '는', 'AI', '봇', '이', '란다', '.', '피자', '주문', '할께', '음료', '도', '주문', '해', '줘', '음료', '는', '멀', '로', '콜라', '로', '해', '줘']]\n",
      "model check : Word2Vec(vocab=24, size=50, alpha=0.025)\n"
     ]
    }
   ],
   "source": [
    "train_data = [train_data]\n",
    "print(train_data)\n",
    "\n",
    "model = word2vec.Word2Vec(size=50, window=2, min_count=1)\n",
    "model.build_vocab(train_data)\n",
    "model.train(train_data)\n",
    "print(\"model check : {0}\".format(model))"
   ]
  },
  {
   "cell_type": "code",
   "execution_count": 85,
   "metadata": {},
   "outputs": [
    {
     "name": "stdout",
     "output_type": "stream",
     "text": [
      "model load check : Word2Vec(vocab=24, size=50, alpha=0.025)\n"
     ]
    }
   ],
   "source": [
    "import os  \n",
    "file_path = './model'\n",
    "if not os.path.exists(file_path):\n",
    "    os.makedirs(file_path)\n",
    "model.save(file_path + \"/w2v.bin\")\n",
    "model = word2vec.Word2Vec.load(\"./model/w2v.bin\")\n",
    "print(\"model load check : {0}\".format(model))"
   ]
  },
  {
   "cell_type": "code",
   "execution_count": 86,
   "metadata": {},
   "outputs": [
    {
     "name": "stdout",
     "output_type": "stream",
     "text": [
      "['음료', '줘', '해', '는', '주문', '로', '서', '.', '나', '만나', '니', '반가워', 'AI', '봇', '이', '넌', '할께', '안녕', '란다', '누구', '콜라', '피자', '도', '멀']\n"
     ]
    }
   ],
   "source": [
    "X = model[vocab]\n",
    "print(model.wv.index2word)"
   ]
  },
  {
   "cell_type": "markdown",
   "metadata": {},
   "source": [
    "### 안녕, AI등 값의 Vector값 출력 "
   ]
  },
  {
   "cell_type": "code",
   "execution_count": 87,
   "metadata": {},
   "outputs": [
    {
     "name": "stdout",
     "output_type": "stream",
     "text": [
      "[  7.70578021e-03  -5.53146517e-03  -6.92201126e-03  -2.27350509e-03\n",
      "  -7.25358166e-03  -3.65838991e-03   8.86415318e-03   2.15791957e-03\n",
      "   1.30950264e-03   7.31933815e-03  -1.18540879e-03  -9.31307487e-03\n",
      "   6.56629913e-04  -2.58653285e-03   4.41709626e-03   2.39771931e-03\n",
      "  -7.02373823e-03   6.34479802e-03   7.52461329e-03  -8.82939436e-03\n",
      "  -9.02117789e-03   7.92329479e-03   7.50020699e-05   4.99623548e-03\n",
      "   5.54782385e-03  -1.45250314e-03   2.13032239e-03  -9.50409472e-03\n",
      "  -5.05588809e-03  -3.81429726e-03  -4.80848877e-03  -3.96375963e-03\n",
      "   7.98807200e-03   4.49646311e-03  -5.40447468e-03   1.51464040e-03\n",
      "   2.80768843e-03   2.68139155e-03   2.86319805e-03  -4.66718478e-03\n",
      "  -9.39708855e-03   8.22522503e-04   8.19624774e-03  -1.39889913e-03\n",
      "  -1.40531920e-04  -8.96323472e-03   6.94040488e-03  -2.65200855e-03\n",
      "   5.67782810e-03  -5.60363103e-03]\n"
     ]
    }
   ],
   "source": [
    "print(model['안녕'])"
   ]
  },
  {
   "cell_type": "code",
   "execution_count": 88,
   "metadata": {},
   "outputs": [
    {
     "name": "stdout",
     "output_type": "stream",
     "text": [
      "[ 0.00686154  0.00361068  0.00741995  0.00170702 -0.00885591  0.00929839\n",
      "  0.00695414  0.00986024 -0.00857869 -0.0059921   0.00883905  0.00743784\n",
      "  0.00091376  0.0012838  -0.00613861 -0.00601931  0.00947428 -0.0049699\n",
      "  0.00472253  0.00368309 -0.00909072  0.00296947  0.00167912  0.00073072\n",
      "  0.00299315 -0.00926693  0.00218145  0.00569272  0.00465171  0.00474436\n",
      " -0.00436316 -0.0057118   0.00066927 -0.00694768  0.00813383 -0.00635307\n",
      "  0.00345884 -0.00908514 -0.00155862  0.00322275 -0.0075618   0.00798893\n",
      "  0.006153   -0.0021826   0.00152068 -0.00950876 -0.0058475   0.00594261\n",
      "  0.00286639 -0.0001673 ]\n"
     ]
    }
   ],
   "source": [
    "print(model['AI'])"
   ]
  },
  {
   "cell_type": "code",
   "execution_count": 89,
   "metadata": {},
   "outputs": [
    {
     "name": "stdout",
     "output_type": "stream",
     "text": [
      "[('멀', 0.3275527358055115), ('AI', 0.2745295464992523), ('나', 0.2217162847518921), ('만나', 0.218133807182312), ('할께', 0.1292283535003662), ('음료', 0.08259749412536621), ('도', 0.08101271837949753), ('는', 0.06811986863613129), ('해', 0.05928724631667137), ('이', 0.05255215987563133)]\n"
     ]
    }
   ],
   "source": [
    "result1 = model.most_similar(positive='누구', negative='', topn=10)\n",
    "print(result1)"
   ]
  },
  {
   "cell_type": "code",
   "execution_count": 90,
   "metadata": {},
   "outputs": [
    {
     "name": "stdout",
     "output_type": "stream",
     "text": [
      "           x         y word\n",
      "0  -0.000014  0.000128   음료\n",
      "1  -0.000102 -0.000018    줘\n",
      "2  -0.000098 -0.000030    해\n",
      "3  -0.000156 -0.000074    는\n",
      "4  -0.000023 -0.000035   주문\n",
      "5   0.000140 -0.000050    로\n",
      "6  -0.000157 -0.000004    서\n",
      "7   0.000093  0.000073    .\n",
      "8   0.000018  0.000022    나\n",
      "9  -0.000111 -0.000008   만나\n",
      "10 -0.000099  0.000034    니\n",
      "11 -0.000150  0.000047  반가워\n",
      "12  0.000047  0.000060   AI\n",
      "13  0.000040  0.000027    봇\n",
      "14 -0.000044  0.000077    이\n",
      "15  0.000175  0.000020    넌\n",
      "16 -0.000127 -0.000007   할께\n",
      "17 -0.000054 -0.000007   안녕\n",
      "18  0.000006 -0.000124   란다\n",
      "19  0.000017  0.000025   누구\n",
      "20 -0.000151  0.000064   콜라\n",
      "21 -0.000071  0.000076   피자\n",
      "22 -0.000109 -0.000131    도\n",
      "23  0.000145 -0.000087    멀\n"
     ]
    },
    {
     "data": {
      "image/png": "[encoded data removed]",
      "text/plain": [
       "<matplotlib.figure.Figure at 0x7fc9a7a13c88>"
      ]
     },
     "metadata": {},
     "output_type": "display_data"
    }
   ],
   "source": [
    "from sklearn.manifold import TSNE\n",
    "import pandas as pd\n",
    "import matplotlib \n",
    "import matplotlib.pyplot as plt\n",
    "\n",
    "\n",
    "font_name = matplotlib.font_manager.FontProperties(\n",
    "                fname=\"/usr/share/fonts/truetype/nanum/NanumGothic.ttf\"  # 한글 폰트 위치를 넣어주세요\n",
    "            ).get_name()\n",
    "vocab = model.wv.index2word\n",
    "matplotlib.rc('font', family=font_name)\n",
    "tsne = TSNE(n_components=2)\n",
    "X_tsne = tsne.fit_transform(X) #t-분포 확률적 임베딩(t-SNE)은 데이터의 차원 축소에 사용\n",
    "df = pd.concat([pd.DataFrame(X_tsne),\n",
    "                pd.Series(vocab)],\n",
    "               axis=1)\n",
    "\n",
    "df.columns = ['x', 'y', 'word']\n",
    "fig = plt.figure()\n",
    "ax = fig.add_subplot(1, 1, 1)\n",
    "print(df)\n",
    "ax.scatter(df['x'], df['y'])\n",
    "ax.set_xlim(df['x'].max(), df['x'].min())\n",
    "ax.set_ylim(df['y'].max(), df['y'].min())\n",
    "for i, txt in enumerate(df['word']):\n",
    "    ax.annotate(txt, (df['x'].iloc[i], df['y'].iloc[i]))\n",
    "plt.show()"
   ]
  },
  {
   "cell_type": "code",
   "execution_count": null,
   "metadata": {},
   "outputs": [],
   "source": []
  },
  {
   "cell_type": "code",
   "execution_count": null,
   "metadata": {
    "collapsed": true
   },
   "outputs": [],
   "source": []
  }
 ],
 "metadata": {
  "anaconda-cloud": {},
  "kernelspec": {
   "display_name": "Python 3",
   "language": "python",
   "name": "python3"
  },
  "language_info": {
   "codemirror_mode": {
    "name": "ipython",
    "version": 3
   },
   "file_extension": ".py",
   "mimetype": "text/x-python",
   "name": "python",
   "nbconvert_exporter": "python",
   "pygments_lexer": "ipython3",
   "version": "3.6.2"
  }
 },
 "nbformat": 4,
 "nbformat_minor": 2
}
