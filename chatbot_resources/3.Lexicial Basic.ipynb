{
 "cells": [
  {
   "cell_type": "code",
   "execution_count": 1,
   "metadata": {},
   "outputs": [],
   "source": [
    "from konlpy.tag import Kkma\n",
    "from konlpy.tag import Mecab\n",
    "from konlpy.tag import Twitter"
   ]
  },
  {
   "cell_type": "markdown",
   "metadata": {},
   "source": [
    "# Simple Approach"
   ]
  },
  {
   "cell_type": "code",
   "execution_count": 2,
   "metadata": {},
   "outputs": [
    {
     "name": "stdout",
     "output_type": "stream",
     "text": [
      "\u001b[1;31m[개행 문자가 있는 문장]\u001b[0m \n",
      "첫 번째 문장입니다. \n",
      "두 번째 문장입니다. \n",
      "김선호 입니다.\n",
      "\n",
      "\u001b[1;31m[개행 문자로 분리]\u001b[0m \n",
      "['첫 번째 문장입니다. ', '두 번째 문장입니다. ', '김선호 입니다.', '']\n",
      "\n",
      "\u001b[1;31m[공백으로 문자 분리]\u001b[0m \n",
      "[['첫', '번째', '문장입니다.', ''], ['두', '번째', '문장입니다.', ''], ['김선호', '입니다.'], ['']]\n",
      "\n"
     ]
    }
   ],
   "source": [
    "#Line 구분자가 있는 경우\n",
    "test_set_2 = \"첫 번째 문장입니다. \\n\" + \\\n",
    "             \"두 번째 문장입니다. \\n\" + \\\n",
    "             \"김선호 입니다.\\n\" \n",
    "print(\"\\x1b[1;31m[개행 문자가 있는 문장]\\x1b[0m \\n{0}\".format(test_set_2))\n",
    "\n",
    "# # #Line 구분자가 없는 경우\n",
    "# test_set_2 = \"첫번째문장입니다 .\" + \\\n",
    "#              \"두번째문장입니다.... \" + \\\n",
    "#              \"김승우 .\" \n",
    "# print(\"\\x1b[1;31m[문장 구분자가 없는 문장]\\x1b[0m \\n{0}\\n\".format(test_set_2))\n",
    "\n",
    "sent_split = test_set_2.split('\\n')\n",
    "print(\"\\x1b[1;31m[개행 문자로 분리]\\x1b[0m \\n{0}\\n\".format(sent_split))\n",
    "\n",
    "sent_token = list(map(lambda x:x.split(' '), sent_split))\n",
    "print(\"\\x1b[1;31m[공백으로 문자 분리]\\x1b[0m \\n{0}\\n\".format(sent_token))"
   ]
  },
  {
   "cell_type": "markdown",
   "metadata": {},
   "source": [
    "# Mecab"
   ]
  },
  {
   "cell_type": "code",
   "execution_count": 3,
   "metadata": {},
   "outputs": [
    {
     "name": "stdout",
     "output_type": "stream",
     "text": [
      "\u001b[1;31m[Mecab POS]\u001b[0m \n",
      "[('첫', 'MM'), ('번', 'NNBC'), ('째', 'XSN'), ('문장', 'NNG'), ('입니다', 'VCP+EF'), ('.', 'SF'), ('두', 'MM'), ('번', 'NNBC'), ('째', 'XSN'), ('문장', 'NNG'), ('입니다', 'VCP+EF'), ('.', 'SF'), ('김선호', 'NNP'), ('입니다', 'VCP+EF'), ('.', 'SF')]\n",
      "\n",
      "\u001b[1;31m[Mecab Extract Some Tag]\u001b[0m \n",
      "[('첫', 'MM'), ('번', 'NNBC'), ('째', 'XSN'), ('문장', 'NNG'), ('.', 'SF'), ('두', 'MM'), ('번', 'NNBC'), ('째', 'XSN'), ('문장', 'NNG'), ('.', 'SF'), ('김선호', 'NNP'), ('.', 'SF')]\n",
      "\n",
      "\u001b[1;31m[Mecab Sentence Splitting]\u001b[0m \n",
      "['첫번째문장', '두번째문장', '김선호', '']\n",
      "\n",
      "\u001b[1;31m[Mecab Morph Sentence]\u001b[0m \n",
      "[['첫', '번', '째', '문장'], ['두', '번', '째', '문장'], ['김선호'], []]\n",
      "\n"
     ]
    }
   ],
   "source": [
    "mecab = Mecab('/usr/local/lib/mecab/dic/mecab-ko-dic')\n",
    "pos1 = mecab.pos(test_set_2)\n",
    "print(\"\\x1b[1;31m[Mecab POS]\\x1b[0m \\n{0}\\n\".format(pos1))\n",
    "\n",
    "pos2 = list(filter(lambda x :  x[1] in ['MM', 'NNG', 'NNP', 'SF','XSN','NNBC'], pos1 ))\n",
    "print(\"\\x1b[1;31m[Mecab Extract Some Tag]\\x1b[0m \\n{0}\\n\".format(pos2))\n",
    "\n",
    "pos3 = ''.join(list(map(lambda x : '\\n' if x[1] in ['SF'] else x[0], pos2))).split('\\n')\n",
    "print(\"\\x1b[1;31m[Mecab Sentence Splitting]\\x1b[0m \\n{0}\\n\".format(pos3))\n",
    "\n",
    "morphs = list(map(lambda x : mecab.morphs(x) , pos3))\n",
    "print(\"\\x1b[1;31m[Mecab Morph Sentence]\\x1b[0m \\n{0}\\n\".format(morphs))\n"
   ]
  },
  {
   "cell_type": "markdown",
   "metadata": {},
   "source": [
    "# Twitter"
   ]
  },
  {
   "cell_type": "code",
   "execution_count": 4,
   "metadata": {},
   "outputs": [
    {
     "name": "stdout",
     "output_type": "stream",
     "text": [
      "\u001b[1;31m[Twitter POS]\u001b[0m \n",
      "[('첫', 'Noun'), ('번째', 'Suffix'), ('문장', 'Noun'), ('입니', 'Adjective'), ('다', 'Eomi'), ('.', 'Punctuation'), ('두', 'Noun'), ('번째', 'Suffix'), ('문장', 'Noun'), ('입니', 'Adjective'), ('다', 'Eomi'), ('.', 'Punctuation'), ('김', 'Noun'), ('선호', 'Noun'), ('입니', 'Adjective'), ('다', 'Eomi'), ('.', 'Punctuation')]\n",
      "\n",
      "\u001b[1;31m[Twitter Extract Some Tag]\u001b[0m \n",
      "[('첫', 'Noun'), ('번째', 'Suffix'), ('문장', 'Noun'), ('.', 'Punctuation'), ('두', 'Noun'), ('번째', 'Suffix'), ('문장', 'Noun'), ('.', 'Punctuation'), ('김', 'Noun'), ('선호', 'Noun'), ('.', 'Punctuation')]\n",
      "\n",
      "\u001b[1;31m[Twitter Sentence Splitting]\u001b[0m \n",
      "['첫번째문장', '두번째문장', '김선호', '']\n",
      "\n",
      "\u001b[1;31m[Twitter Morph Sentence]\u001b[0m \n",
      "[['첫', '번째', '문장'], ['두번째', '문장'], ['김', '선호'], []]\n",
      "\n"
     ]
    }
   ],
   "source": [
    "twitter = Twitter(jvmpath=None)\n",
    "pos1 = twitter.pos(test_set_2)\n",
    "print(\"\\x1b[1;31m[Twitter POS]\\x1b[0m \\n{0}\\n\".format(pos1))\n",
    "\n",
    "pos2 = list(filter(lambda x :  x[1] in ['Noun', 'Suffix', 'Punctuation'], pos1 ))\n",
    "print(\"\\x1b[1;31m[Twitter Extract Some Tag]\\x1b[0m \\n{0}\\n\".format(pos2))\n",
    "\n",
    "pos3 = ''.join(list(map(lambda x : '\\n' if x[1] in ['Punctuation'] else x[0], pos2))).split('\\n')\n",
    "print(\"\\x1b[1;31m[Twitter Sentence Splitting]\\x1b[0m \\n{0}\\n\".format(pos3))\n",
    "\n",
    "morphs = list(map(lambda x : twitter.morphs(x) , pos3))\n",
    "print(\"\\x1b[1;31m[Twitter Morph Sentence]\\x1b[0m \\n{0}\\n\".format(morphs))\n"
   ]
  },
  {
   "cell_type": "markdown",
   "metadata": {},
   "source": [
    "# KKMA"
   ]
  },
  {
   "cell_type": "code",
   "execution_count": 5,
   "metadata": {},
   "outputs": [
    {
     "name": "stdout",
     "output_type": "stream",
     "text": [
      "\u001b[1;31m[Kkma POS]\u001b[0m \n",
      "[('첫', 'MDT'), ('번째', 'NNB'), ('문장', 'NNG'), ('이', 'VCP'), ('ㅂ니다', 'EFN'), ('.', 'SF'), ('두', 'MDN'), ('번째', 'NNB'), ('문장', 'NNG'), ('이', 'VCP'), ('ㅂ니다', 'EFN'), ('.', 'SF'), ('김', 'NNG'), ('선호', 'NNG'), ('이', 'VCP'), ('ㅂ니다', 'EFN'), ('.', 'SF')]\n",
      "\n",
      "\u001b[1;31m[Kkma Extract Some Tag]\u001b[0m \n",
      "[('첫', 'MDT'), ('번째', 'NNB'), ('문장', 'NNG'), ('.', 'SF'), ('두', 'MDN'), ('번째', 'NNB'), ('문장', 'NNG'), ('.', 'SF'), ('김', 'NNG'), ('선호', 'NNG'), ('.', 'SF')]\n",
      "\n",
      "\u001b[1;31m[Kkma Sentence Splitting]\u001b[0m \n",
      "['첫번째문장.두번째문장.김선호.']\n",
      "\n",
      "\u001b[1;31m[Kkma Morph Sentence]\u001b[0m \n",
      "[['첫', '번째', '문장', '.', '두', '번째', '문장', '.', '김', '선호', '.']]\n",
      "\n"
     ]
    }
   ],
   "source": [
    "kkma = Kkma()\n",
    "pos1 = kkma.pos(test_set_2)\n",
    "print(\"\\x1b[1;31m[Kkma POS]\\x1b[0m \\n{0}\\n\".format(pos1))\n",
    "\n",
    "pos2 = list(filter(lambda x :  x[1] in ['MDT', 'NNB', 'NNG', 'SF', 'MDN'], pos1 ))\n",
    "print(\"\\x1b[1;31m[Kkma Extract Some Tag]\\x1b[0m \\n{0}\\n\".format(pos2))\n",
    "\n",
    "pos3 = ''.join(list(map(lambda x : '\\n' if x[1] in ['Punctuation'] else x[0], pos2))).split('\\n')\n",
    "print(\"\\x1b[1;31m[Kkma Sentence Splitting]\\x1b[0m \\n{0}\\n\".format(pos3))\n",
    "\n",
    "morphs = list(map(lambda x : kkma.morphs(x) , pos3))\n",
    "print(\"\\x1b[1;31m[Kkma Morph Sentence]\\x1b[0m \\n{0}\\n\".format(morphs))\n"
   ]
  },
  {
   "cell_type": "code",
   "execution_count": null,
   "metadata": {},
   "outputs": [],
   "source": []
  }
 ],
 "metadata": {
  "anaconda-cloud": {},
  "kernelspec": {
   "display_name": "Python 3",
   "language": "python",
   "name": "python3"
  },
  "language_info": {
   "codemirror_mode": {
    "name": "ipython",
    "version": 3
   },
   "file_extension": ".py",
   "mimetype": "text/x-python",
   "name": "python",
   "nbconvert_exporter": "python",
   "pygments_lexer": "ipython3",
   "version": "3.6.2"
  }
 },
 "nbformat": 4,
 "nbformat_minor": 1
}
